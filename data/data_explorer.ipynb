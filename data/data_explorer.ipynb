{
 "cells": [
  {
   "cell_type": "code",
   "execution_count": 1,
   "metadata": {},
   "outputs": [],
   "source": [
    "import json "
   ]
  },
  {
   "cell_type": "code",
   "execution_count": 3,
   "metadata": {},
   "outputs": [
    {
     "data": {
      "text/plain": [
       "{'id': 1,\n",
       " 'title': 'Climate Change Impact Study',\n",
       " 'source': 'Climate change represents one of the most significant challenges facing humanity in the 21st century. The Intergovernmental Panel on Climate Change (IPCC) has consistently reported that global temperatures have risen by approximately 1.1°C since pre-industrial times.\\n\\nThis warming trend has led to observable changes in weather patterns, including more frequent extreme weather events such as hurricanes, droughts, and heatwaves. The Arctic region has experienced particularly dramatic changes, with sea ice extent declining at a rate of 13% per decade.\\n\\nOcean acidification, caused by increased CO2 absorption, poses a significant threat to marine ecosystems. Coral reefs, which support approximately 25% of all marine species, are experiencing widespread bleaching events. The Great Barrier Reef has suffered multiple mass bleaching events in recent years.\\n\\nEconomic impacts are already being felt across various sectors. Agricultural productivity has decreased in many regions due to changing precipitation patterns and increased temperatures. The insurance industry has recorded significant increases in claims related to extreme weather events.\\n\\nScientists project that without immediate and substantial action to reduce greenhouse gas emissions, global temperatures could rise by 3-5°C by the end of the century. This would result in catastrophic impacts including sea level rise of 1-2 meters, displacement of millions of people, and widespread ecosystem collapse.',\n",
       " 'summary': \"Recent climate research indicates that global warming has accelerated significantly, with temperatures rising 1.1°C above pre-industrial levels. This warming trend is causing severe disruptions to weather patterns and ecosystems worldwide.\\n\\nThe Arctic region shows the most dramatic changes, with sea ice declining rapidly at 13% per decade. Marine ecosystems are under severe stress due to ocean acidification and rising temperatures, particularly affecting coral reefs which support 25% of marine species.\\n\\nEconomic sectors are already experiencing substantial impacts, with agriculture facing reduced productivity and insurance companies dealing with increased claims from extreme weather events. Without immediate action to reduce emissions, scientists predict catastrophic consequences including 3-5°C temperature rises, significant sea level rise, and widespread ecosystem collapse by century's end.\",\n",
       " 'spans': [{'id': 1,\n",
       "   'text': 'temperatures rising 1.1°C above pre-industrial levels',\n",
       "   'startIndex': 85,\n",
       "   'endIndex': 135,\n",
       "   'evidence': 3,\n",
       "   'likelihood': 3,\n",
       "   'consequence': 2},\n",
       "  {'id': 2,\n",
       "   'text': 'sea ice declining rapidly at 13% per decade',\n",
       "   'startIndex': 270,\n",
       "   'endIndex': 310,\n",
       "   'evidence': 3,\n",
       "   'likelihood': 3,\n",
       "   'consequence': 3},\n",
       "  {'id': 3,\n",
       "   'text': 'coral reefs which support 25% of marine species',\n",
       "   'startIndex': 450,\n",
       "   'endIndex': 495,\n",
       "   'evidence': 2,\n",
       "   'likelihood': 2,\n",
       "   'consequence': 3},\n",
       "  {'id': 4,\n",
       "   'text': '3-5°C temperature rises',\n",
       "   'startIndex': 820,\n",
       "   'endIndex': 842,\n",
       "   'evidence': 2,\n",
       "   'likelihood': 2,\n",
       "   'consequence': 3}]}"
      ]
     },
     "execution_count": 3,
     "metadata": {},
     "output_type": "execute_result"
    }
   ],
   "source": [
    "with open('annotations.json', 'r') as fp:\n",
    "    data = json.load(fp)\n",
    "\n",
    "data[0]"
   ]
  },
  {
   "cell_type": "code",
   "execution_count": 9,
   "metadata": {},
   "outputs": [
    {
     "name": "stdout",
     "output_type": "stream",
     "text": [
      "temperatures rising 1.1°C above pre-industrial levels || with temperatures rising 1.1°C above pre-industria\n",
      "sea ice declining rapidly at 13% per decade || ost dramatic changes, with sea ice decli\n",
      "coral reefs which support 25% of marine species || ffecting coral reefs which support 25% of mar\n",
      "3-5°C temperature rises || ises, significant sea \n"
     ]
    }
   ],
   "source": [
    "dat = data[0]\n",
    "for spans in dat['spans']:\n",
    "    span_text = spans['text']\n",
    "    summary = dat['summary']\n",
    "    if span_text in summary:\n",
    "        print(span_text, '||', summary[spans['startIndex']: spans['endIndex']])"
   ]
  },
  {
   "cell_type": "code",
   "execution_count": 5,
   "metadata": {},
   "outputs": [
    {
     "data": {
      "text/plain": [
       "'3-5°C temperature rises'"
      ]
     },
     "execution_count": 5,
     "metadata": {},
     "output_type": "execute_result"
    }
   ],
   "source": [
    "span_text"
   ]
  },
  {
   "cell_type": "code",
   "execution_count": null,
   "metadata": {},
   "outputs": [],
   "source": []
  }
 ],
 "metadata": {
  "kernelspec": {
   "display_name": "Python 3",
   "language": "python",
   "name": "python3"
  },
  "language_info": {
   "codemirror_mode": {
    "name": "ipython",
    "version": 3
   },
   "file_extension": ".py",
   "mimetype": "text/x-python",
   "name": "python",
   "nbconvert_exporter": "python",
   "pygments_lexer": "ipython3",
   "version": "3.9.6"
  }
 },
 "nbformat": 4,
 "nbformat_minor": 2
}
